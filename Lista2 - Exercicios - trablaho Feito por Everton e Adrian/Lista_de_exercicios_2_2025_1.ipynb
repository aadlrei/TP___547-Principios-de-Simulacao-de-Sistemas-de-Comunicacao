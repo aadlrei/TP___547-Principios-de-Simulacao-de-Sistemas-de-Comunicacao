{
  "nbformat": 4,
  "nbformat_minor": 0,
  "metadata": {
    "colab": {
      "provenance": []
    },
    "kernelspec": {
      "name": "python3",
      "display_name": "Python 3"
    },
    "language_info": {
      "name": "python"
    }
  },
  "cells": [
    {
      "cell_type": "markdown",
      "source": [
        "## 2ºLista de exercícios"
      ],
      "metadata": {
        "id": "8ciISOrBJ5a8"
      }
    },
    {
      "cell_type": "markdown",
      "source": [
        "## 1)\n",
        "\n",
        "Suponha que haja 40 bolas em um chapéu, das quais 10 são vermelhas, 10 são azuis, 10 são amarelas e 10 são roxas.\n",
        "\n",
        "Qual é a probabilidade de obter no mínimo uma bola azul e uma roxa ao tirar 8 bolas aleatoriamente do chapéu?\n",
        "\n",
        "O que muda no resultado caso a bola seja retirada e não reposta."
      ],
      "metadata": {
        "id": "r6TzevxJKDeI"
      }
    },
    {
      "cell_type": "markdown",
      "metadata": {
        "id": "CqcPDwu7Hly_"
      },
      "source": [
        "# Probabilidade com Bolas Coloridas\n",
        "\n",
        "Suponha que haja 40 bolas em um chapéu, sendo:\n",
        "- 10 vermelhas\n",
        "- 10 azuis\n",
        "- 10 amarelas\n",
        "- 10 roxas\n",
        "\n",
        "Considerando um chapéu com 40 bolas coloridas, desejamos calcular a probabilidade de que em 8 extrações aleatórias obtenhamos ao menos uma bola azul e uma roxa.\n",
        "\n",
        "Vamos considerar dois cenários:\n",
        "- Sem reposição\n",
        "- Com reposição\n"
      ]
    },
    {
      "cell_type": "code",
      "execution_count": null,
      "metadata": {
        "id": "nTsy_B98HlzL"
      },
      "outputs": [],
      "source": [
        "import numpy as np\n",
        "\n",
        "def sortear_bolas(replace=False):\n",
        "    b_verm = 10\n",
        "    b_azul = 10\n",
        "    b_amar = 10\n",
        "    b_roxa = 10\n",
        "\n",
        "    # Espaço amostral\n",
        "    pool = [0]*b_verm + [1]*b_azul + [2]*b_amar + [3]*b_roxa\n",
        "    b_total = len(pool)\n",
        "    n_selected = 8\n",
        "\n",
        "    selected = []\n",
        "    for _ in range(n_selected):\n",
        "        r = np.random.randint(0, b_total)\n",
        "        selected.append(pool[r])\n",
        "\n",
        "        if not replace:\n",
        "            pool[r], pool[b_total-1] = pool[b_total-1], pool[r]\n",
        "            pool.pop()\n",
        "            b_total -= 1\n",
        "\n",
        "    return np.array(selected)"
      ]
    },
    {
      "cell_type": "code",
      "execution_count": null,
      "metadata": {
        "id": "DQ7Sb4ysHlzL"
      },
      "outputs": [],
      "source": [
        "def monte_carlo(n_events=100000, replace=False):\n",
        "    favoraveis = 0\n",
        "    for _ in range(n_events):\n",
        "        amostra = sortear_bolas(replace=replace)\n",
        "        if np.sum(amostra == 1) >= 1 and np.sum(amostra == 3) >= 1:\n",
        "            favoraveis += 1\n",
        "    return favoraveis / n_events"
      ]
    },
    {
      "cell_type": "code",
      "execution_count": null,
      "metadata": {
        "colab": {
          "base_uri": "https://localhost:8080/"
        },
        "id": "oV_S_ZEbHlzM",
        "outputId": "75b24eda-a473-467f-8595-1b5109645285"
      },
      "outputs": [
        {
          "output_type": "stream",
          "name": "stdout",
          "text": [
            "A probabilidade quando não há repetição é: 0.8479\n",
            "A probabilidade quando há repetição é: 0.8013\n"
          ]
        }
      ],
      "source": [
        "prob_sem_reposicao = monte_carlo(replace=False)\n",
        "prob_com_reposicao = monte_carlo(replace=True)\n",
        "\n",
        "print(f\"A probabilidade quando não há repetição é: {prob_sem_reposicao:.4f}\")\n",
        "print(f\"A probabilidade quando há repetição é: {prob_com_reposicao:.4f}\")"
      ]
    },
    {
      "cell_type": "markdown",
      "metadata": {
        "id": "cA_HFZwYHlzM"
      },
      "source": [
        "### Conclusão\n",
        "- A probabilidade sem reposição tende a ser um pouco menor, pois a cada bola azul ou roxa retirada, reduz-se a chance de obter outra do mesmo tipo nas próximas retiradas.\n",
        "- Com reposição, a mesma cor pode ser sorteada múltiplas vezes, o que pode reduzir a diversidade das cores obtidas e também a chance de aparecerem ambas as cores desejadas como a azul e roxa.\n"
      ]
    },
    {
      "cell_type": "markdown",
      "source": [
        "## 2)\n",
        "\n",
        "Se você lançar dois dados equilibrados simultaneamente, usando simulação de Monte Carlo, faça a estimativa da probabilidade de que a soma seja igual ou maior que 10."
      ],
      "metadata": {
        "id": "ALWCcKxgwNpH"
      }
    },
    {
      "cell_type": "code",
      "source": [
        "def event(n_dices=2):\n",
        "  values = [] # Armazena os valores dos dados\n",
        "  for _ in range(n_dices):\n",
        "    values.append(np.random.randint(1,7)) # Executa a simulação de um lançamento de dado\n",
        "    # Sorteando um número inteiro entre 1 e 6\n",
        "  return values"
      ],
      "metadata": {
        "id": "Tl_w3i1PwVxP"
      },
      "execution_count": null,
      "outputs": []
    },
    {
      "cell_type": "code",
      "source": [
        "def monte_carlo(n_events=10000):\n",
        "  favor_events = 0\n",
        "  for _ in range(n_events):\n",
        "    dices = event()\n",
        "    if sum(dices) >= 10:\n",
        "      favor_events += 1\n",
        "  return favor_events/n_events"
      ],
      "metadata": {
        "id": "YwoqIrIJwoQS"
      },
      "execution_count": null,
      "outputs": []
    },
    {
      "cell_type": "code",
      "source": [
        "print(f'A probabilidade de obter uma soma de dois dados maior ou igual a 10 é {monte_carlo()}')"
      ],
      "metadata": {
        "colab": {
          "base_uri": "https://localhost:8080/"
        },
        "id": "AconNoxIxFEe",
        "outputId": "1e83b262-5385-4961-9ab7-d6f1be78d332"
      },
      "execution_count": null,
      "outputs": [
        {
          "output_type": "stream",
          "name": "stdout",
          "text": [
            "A probabilidade de obter uma soma de dois dados maior ou igual a 10 é 0.165\n"
          ]
        }
      ]
    },
    {
      "cell_type": "markdown",
      "source": [
        "## 3)\n",
        "\n",
        "Você paga 1 real e pode lançar quatro dados.\n",
        "\n",
        "Se a soma dos olhos nos dados for inferior a 12, recebe de volta r reais, caso contrário perde o investimento de 1 real.\n",
        "\n",
        "Suponha que r = 20. Você vai, então, a longo prazo, ganhar ou perder dinheiro ao jogar este jogo?\n",
        "\n",
        "Suponha que o jogador faça novas apostas enquanto tem dinheiro."
      ],
      "metadata": {
        "id": "a8NB0zeQxau8"
      }
    },
    {
      "cell_type": "code",
      "source": [
        "def event(n_dices=4):\n",
        "  values = []\n",
        "  for _ in range(n_dices):\n",
        "    values.append(np.random.randint(1,7))\n",
        "  return values"
      ],
      "metadata": {
        "id": "tO9isDuPxcSw"
      },
      "execution_count": null,
      "outputs": []
    },
    {
      "cell_type": "code",
      "source": [
        "def monte_carlo(n_events=10000):\n",
        "  valor_usado = 0 # Armazena valor usado\n",
        "  valor_recebido = 0   # Armazena valor recebido\n",
        "  for _ in range(n_events):\n",
        "    valor_usado += 1 # Gasta mais 1 por aposta\n",
        "    dices = event(n_dices=4) # Realiza a simulação do jogo de 4 dados\n",
        "    if sum(dices) < 12: # Se o resultado da soma for < 12, é sucesso\n",
        "      valor_recebido += 20\n",
        "  profit = valor_recebido - valor_usado # Calcula o lucro\n",
        "  return profit # Retorna o lucro"
      ],
      "metadata": {
        "id": "Cvt5juD6y1dH"
      },
      "execution_count": null,
      "outputs": []
    },
    {
      "cell_type": "code",
      "source": [
        "profit = monte_carlo()\n",
        "\n",
        "print(f'O jogador ganhará em média R${profit/100000:.2f} por partida.\\nLogo, vale a pena jogar repetidamente, pois a média é favorável.')"
      ],
      "metadata": {
        "colab": {
          "base_uri": "https://localhost:8080/"
        },
        "id": "LyY6zMxIzjty",
        "outputId": "d7a4c126-a8b4-444f-cf52-a289845a4c00"
      },
      "execution_count": null,
      "outputs": [
        {
          "output_type": "stream",
          "name": "stdout",
          "text": [
            "O jogador ganhará em média R$0.38 por partida.\n",
            "Logo, vale a pena jogar repetidamente, pois a média é favorável.\n"
          ]
        }
      ]
    },
    {
      "cell_type": "markdown",
      "source": [
        "4) Resolva as seguintes integrais pelo método da integração de monte carlo e pelo método da integração por importância.\n",
        "\n",
        "a)\n",
        "$$\n",
        "I = \\int_0^1 (1 - x^5)^{7/2} \\, dx\n",
        "$$\n",
        "\n",
        "A função escolhida para a integração por importância é:\n",
        "\n",
        "$$\n",
        "g(x) = 2(1 - x), \\quad \\text{com } x \\in [0, 1]\n",
        "$$\n",
        "\n",
        "Essa função é válida como densidade de probabilidade porque:\n",
        "\n",
        "1. É não-negativa no intervalo:\n",
        "\n",
        "$$\n",
        "g(x) \\geq 0 \\quad \\text{para todo } x \\in [0, 1]\n",
        "$$\n",
        "\n",
        "2. Sua integral no intervalo é igual a 1:\n",
        "\n",
        "$$\n",
        "\\int_0^1 2(1 - x)\\, dx = [2x - x^2]_0^1 = 2(1) - 1^2 = 1\n",
        "$$\n",
        "\n",
        "3. É positiva em todos os pontos onde a função original é positiva em:\n",
        "\n",
        "$$\n",
        "f(x) = (1 - x^5)^{7/2} > 0 \\text{ em } [0, 1)\n",
        "$$\n",
        "\n",
        "$$\n",
        "g(x) = 2(1 - x) > 0 \\text{ em } [0, 1)\n",
        "$$\n"
      ],
      "metadata": {
        "id": "y3vEKCVcQ56h"
      }
    },
    {
      "cell_type": "code",
      "source": [
        "import numpy as np\n",
        "\n",
        "N = 100000  # número de amostras\n",
        "\n",
        "# Monte Carlo simples\n",
        "x_mc = np.random.uniform(0, 1, N)\n",
        "f_mc = (1 - x_mc**5)**(7/2)\n",
        "integral_mc = np.mean(f_mc)\n",
        "\n",
        "# Integração por importância\n",
        "def f(x):\n",
        "    return (1 - x**5)**(7/2)\n",
        "\n",
        "u = np.random.uniform(0, 1, N)         # amostras de U(0,1)\n",
        "x_imp = 1 - np.sqrt(1 - u)             # transformação para seguir g(x)\n",
        "p_x = 2 * (1 - x_imp)                  # g(x)\n",
        "f_imp = f(x_imp)\n",
        "integral_imp = np.mean(f_imp / p_x)\n",
        "\n",
        "# Resultados\n",
        "print(f\"Monte Carlo simples: I ≈ {integral_mc:.6f}\")\n",
        "print(f\"Importância:         I ≈ {integral_imp:.6f}\")"
      ],
      "metadata": {
        "colab": {
          "base_uri": "https://localhost:8080/"
        },
        "id": "GgubZ2obDGdJ",
        "outputId": "c7266c03-9b93-4689-cb85-0613df50a276"
      },
      "execution_count": null,
      "outputs": [
        {
          "output_type": "stream",
          "name": "stdout",
          "text": [
            "Monte Carlo simples: I ≈ 0.691210\n",
            "Importância:         I ≈ 0.692037\n"
          ]
        }
      ]
    },
    {
      "cell_type": "markdown",
      "source": [
        "b)\n",
        "\n",
        "$$\n",
        "I = \\int_{-5}^{10} e^{x + x^3} \\, dx\n",
        "$$\n",
        "\n",
        "**Monte Carlo simples:**  \n",
        "Transformamos amostras uniformes $u \\sim \\mathcal{U}(0,1)$ no intervalo $[-5, 10]$ usando $x = 15u - 5$, e calculamos a média dos valores de $f(x)$, multiplicando pela largura do intervalo (15):\n",
        "\n",
        "$$\n",
        "I \\approx 15 \\cdot \\frac{1}{N} \\sum_{i=1}^{N} f(x_i)\n",
        "$$\n",
        "\n",
        "**Integração por importância:**  \n",
        "Usamos a densidade:\n",
        "\n",
        "$$\n",
        "g(y) = \\frac{15 \\cdot e^{15y}}{e^{15} - 1}, \\quad y \\in [0, 1]\n",
        "$$\n",
        "\n",
        "Amostras $y$ são geradas com a inversa da CDF:\n",
        "\n",
        "$$\n",
        "y = \\frac{1}{15} \\ln\\left(u \\cdot (e^{15} - 1) + 1\\right)\n",
        "$$\n",
        "\n",
        "Convertendo para o intervalo original com $x = 15y - 5$, estimamos a integral como:\n",
        "\n",
        "$$\n",
        "I \\approx \\frac{1}{N} \\sum_{i=1}^{N} \\frac{15 \\cdot f(x_i)}{g(y_i)}\n",
        "$$\n"
      ],
      "metadata": {
        "id": "tUaZgPDtUPzK"
      }
    },
    {
      "cell_type": "code",
      "source": [
        "import numpy as np\n",
        "\n",
        "N = 100000  # número de amostras\n",
        "\n",
        "# Monte Carlo simples\n",
        "u = np.random.uniform(0, 1, N)  # amostras em [0, 1]\n",
        "x = 15 * u - 5                  # transformação para intervalo [-5, 10]\n",
        "f = np.exp(x + x**3)           # avalia a função f(x)\n",
        "estimativa_mc = 15 * np.mean(f)  # estima a integral\n",
        "\n",
        "# Integração por importância\n",
        "u = np.random.uniform(0, 1, N)\n",
        "y = (1 / 15) * np.log(u * (np.exp(15) - 1) + 1)  # inversa da CDF de g(y)\n",
        "x = 15 * y - 5\n",
        "num = 15 * np.exp(x + x**3)\n",
        "den = (15 / (np.exp(15) - 1)) * np.exp(15 * y)\n",
        "estimativa_imp = np.mean(num / den)\n",
        "\n",
        "print(f\"Estimativa Monte Carlo:     I ≈ {estimativa_mc:.6f}\")\n",
        "print(f\"Estimativa por importância: I ≈ {estimativa_imp:.6f}\")"
      ],
      "metadata": {
        "colab": {
          "base_uri": "https://localhost:8080/"
        },
        "id": "kYefguwzWYss",
        "outputId": "c3d8d331-43c6-4713-a379-f97cc0cb3c2a"
      },
      "execution_count": null,
      "outputs": [
        {
          "output_type": "stream",
          "name": "stdout",
          "text": [
            "Estimativa Monte Carlo:     I ≈ inf\n",
            "Estimativa por importância: I ≈ inf\n"
          ]
        },
        {
          "output_type": "stream",
          "name": "stderr",
          "text": [
            "<ipython-input-8-59229b94dc96>:8: RuntimeWarning: overflow encountered in exp\n",
            "  f = np.exp(x + x**3)           # avalia a função f(x)\n",
            "<ipython-input-8-59229b94dc96>:15: RuntimeWarning: overflow encountered in exp\n",
            "  num = 15 * np.exp(x + x**3)\n",
            "<ipython-input-8-59229b94dc96>:15: RuntimeWarning: overflow encountered in multiply\n",
            "  num = 15 * np.exp(x + x**3)\n"
          ]
        }
      ]
    },
    {
      "cell_type": "markdown",
      "source": [
        "c)\n",
        "\n",
        "$$\n",
        "I = \\int_0^{\\infty} \\frac{x^2}{(1 + x^2)^3} \\, dx\n",
        "$$\n",
        "\n",
        "Como o intervalo é infinito, aplicamos a mudança de variável:\n",
        "\n",
        "$$\n",
        "x = \\frac{1}{t} - 1, \\quad t \\in (0, 1]\n",
        "$$\n",
        "\n",
        "Com isso, a integral passa a ser:\n",
        "\n",
        "$$\n",
        "I = \\int_0^1 \\frac{t^2 (1 - t)^2}{(2t^2 - 2t + 1)^3} \\, dt\n",
        "$$\n",
        "\n",
        "Para o método de **integração por importância**, escolhemos a função:\n",
        "\n",
        "$$\n",
        "g(t) = A \\cdot t (1 - t)^3\n",
        "$$\n",
        "\n",
        "Calculamos a constante \\( A \\) para que seja uma densidade válida:\n",
        "\n",
        "$$\n",
        "\\int_0^1 A \\cdot t (1 - t)^3 \\, dt = 1 \\Rightarrow A = 20\n",
        "$$\n",
        "\n",
        "Portanto:\n",
        "\n",
        "$$\n",
        "g(t) = 20 \\cdot t (1 - t)^3\n",
        "$$\n",
        "\n",
        "\n"
      ],
      "metadata": {
        "id": "fjgVExUxg2w1"
      }
    },
    {
      "cell_type": "code",
      "source": [
        "import numpy as np\n",
        "\n",
        "N = 100000  # número de amostras\n",
        "\n",
        "# Monte Carlo simples\n",
        "t = np.random.uniform(0, 1, N)\n",
        "x = 1 / t - 1                       # transformação: x = 1/t - 1\n",
        "fx = (x**2) / (1 + x**2)**3\n",
        "dx_dt = 1 / t**2                    # derivada dx/dt\n",
        "f_t = fx * dx_dt\n",
        "integral_mc = np.mean(f_t)\n",
        "\n",
        "# Integração por importância com g(y) = 20y(1 - y)^3\n",
        "y = np.random.beta(2, 4, N)         # amostras de g(y) = 20y(1 - y)^3\n",
        "num = y**2 * (1 - y)**2             # numerador de f(y)\n",
        "den = (2 * y**2 - 2 * y + 1)**3     # denominador de f(y)\n",
        "f_y = num / den\n",
        "g_y = 20 * y * (1 - y)**3           # g(y) normalizada (A = 20)\n",
        "integral_imp = np.mean(f_y / g_y)\n",
        "\n",
        "print(f\"Monte Carlo simples:     I ≈ {integral_mc:.6f}\")\n",
        "print(f\"Importância:             I ≈ {integral_imp:.6f}\")\n"
      ],
      "metadata": {
        "colab": {
          "base_uri": "https://localhost:8080/"
        },
        "id": "HSOC1DcqfrwV",
        "outputId": "6e04e450-6751-420f-bf78-d85cd74be4a1"
      },
      "execution_count": null,
      "outputs": [
        {
          "output_type": "stream",
          "name": "stdout",
          "text": [
            "Monte Carlo simples:     I ≈ 0.196536\n",
            "Importância:             I ≈ 0.196084\n"
          ]
        }
      ]
    }
  ]
}